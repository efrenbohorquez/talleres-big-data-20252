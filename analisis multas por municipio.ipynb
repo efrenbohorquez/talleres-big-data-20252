{
 "cells": [
  {
   "cell_type": "code",
   "execution_count": 41,
   "id": "ff6f9133",
   "metadata": {},
   "outputs": [],
   "source": [
    "import pandas as pd\n",
    "import numpy as np\n",
    "import matplotlib.pyplot as plt"
   ]
  },
  {
   "cell_type": "code",
   "execution_count": 2,
   "id": "78dd7b59",
   "metadata": {},
   "outputs": [
    {
     "data": {
      "application/vnd.microsoft.datawrangler.viewer.v0+json": {
       "columns": [
        {
         "name": "index",
         "rawType": "int64",
         "type": "integer"
        },
        {
         "name": "VIGENCIA",
         "rawType": "int64",
         "type": "integer"
        },
        {
         "name": "PLACA",
         "rawType": "object",
         "type": "string"
        },
        {
         "name": "FECHA_MULTA",
         "rawType": "object",
         "type": "string"
        },
        {
         "name": "VALOR_MULTA",
         "rawType": "object",
         "type": "string"
        },
        {
         "name": "DEPARTAMENTO",
         "rawType": "object",
         "type": "string"
        },
        {
         "name": "CIUDAD",
         "rawType": "object",
         "type": "string"
        },
        {
         "name": "PAGADO_SI_NO",
         "rawType": "object",
         "type": "string"
        }
       ],
       "ref": "94162121-9543-428c-914a-e9a36cad803b",
       "rows": [
        [
         "0",
         "2019",
         "MIK715",
         "25/01/2019",
         "414,058",
         "Santander",
         "Bucaramanga",
         "SI"
        ],
        [
         "1",
         "2020",
         "IBF96B",
         "11/02/2020",
         "0",
         "Meta",
         "Villavicencio",
         "SI"
        ],
        [
         "2",
         "2020",
         "AUW697",
         "08/12/2020",
         "877,803",
         "Cauca",
         "Mercaderes",
         "NO"
        ],
        [
         "3",
         "2019",
         "FCW577",
         "11/03/2019",
         "414,060",
         "Antioquia",
         "Medellin",
         "SI"
        ],
        [
         "4",
         "2019",
         "EVL11D",
         "24/08/2019",
         "0",
         "Antioquia",
         "Chigorodo",
         "NO"
        ],
        [
         "5",
         "2021",
         "FOR75D",
         "09/08/2021",
         "149,185",
         "Valle del Cauca",
         "Cali",
         "SI"
        ],
        [
         "6",
         "2019",
         "XKX76A",
         "04/10/2019",
         "414,100",
         "Bogota D.C.",
         "Bogota D.C.",
         "SI"
        ],
        [
         "7",
         "2019",
         "ELA11D",
         "27/03/2019",
         "414,060",
         "Antioquia",
         "Medellin",
         "SI"
        ],
        [
         "8",
         "2019",
         "TAY686",
         "13/03/2019",
         "414,100",
         "Bogota D.C.",
         "Bogota D.C.",
         "SI"
        ],
        [
         "9",
         "2019",
         "BPI174",
         "13/03/2019",
         "414,100",
         "Bogota D.C.",
         "Bogota D.C.",
         "NO"
        ],
        [
         "10",
         "2019",
         "FLM417",
         "13/03/2019",
         "414,100",
         "Bogota D.C.",
         "Bogota D.C.",
         "SI"
        ],
        [
         "11",
         "2019",
         "JFK618",
         "13/03/2019",
         "414,100",
         "Bogota D.C.",
         "Bogota D.C.",
         "SI"
        ],
        [
         "12",
         "2019",
         "VDM981",
         "13/03/2019",
         "414,100",
         "Bogota D.C.",
         "Bogota D.C.",
         "SI"
        ],
        [
         "13",
         "2019",
         "OPL57E",
         "11/03/2019",
         "414,060",
         "Huila",
         "Neiva",
         "NO"
        ],
        [
         "14",
         "2020",
         "KLV75B",
         "11/02/2020",
         "438,902",
         "Meta",
         "META",
         "SI"
        ],
        [
         "15",
         "2019",
         "MMJ152",
         "01/02/2019",
         "220,832",
         "Antioquia",
         "Envigado",
         "NO"
        ],
        [
         "16",
         "2019",
         "JVC48E",
         "01/04/2019",
         "414,060",
         "Antioquia",
         "Medellin",
         "NO"
        ],
        [
         "17",
         "2019",
         "RCV453",
         "27/03/2019",
         "414,060",
         "Boyaca",
         "Sogamoso",
         "SI"
        ],
        [
         "18",
         "2021",
         "VYR71E",
         "08/08/2021",
         "895,096",
         "Antioquia",
         "Maceo",
         "NO"
        ],
        [
         "19",
         "2020",
         "ZSF39E",
         "21/06/2020",
         "438,900",
         "Antioquia",
         "Medellin",
         "NO"
        ]
       ],
       "shape": {
        "columns": 7,
        "rows": 20
       }
      },
      "text/html": [
       "<div>\n",
       "<style scoped>\n",
       "    .dataframe tbody tr th:only-of-type {\n",
       "        vertical-align: middle;\n",
       "    }\n",
       "\n",
       "    .dataframe tbody tr th {\n",
       "        vertical-align: top;\n",
       "    }\n",
       "\n",
       "    .dataframe thead th {\n",
       "        text-align: right;\n",
       "    }\n",
       "</style>\n",
       "<table border=\"1\" class=\"dataframe\">\n",
       "  <thead>\n",
       "    <tr style=\"text-align: right;\">\n",
       "      <th></th>\n",
       "      <th>VIGENCIA</th>\n",
       "      <th>PLACA</th>\n",
       "      <th>FECHA_MULTA</th>\n",
       "      <th>VALOR_MULTA</th>\n",
       "      <th>DEPARTAMENTO</th>\n",
       "      <th>CIUDAD</th>\n",
       "      <th>PAGADO_SI_NO</th>\n",
       "    </tr>\n",
       "  </thead>\n",
       "  <tbody>\n",
       "    <tr>\n",
       "      <th>0</th>\n",
       "      <td>2019</td>\n",
       "      <td>MIK715</td>\n",
       "      <td>25/01/2019</td>\n",
       "      <td>414,058</td>\n",
       "      <td>Santander</td>\n",
       "      <td>Bucaramanga</td>\n",
       "      <td>SI</td>\n",
       "    </tr>\n",
       "    <tr>\n",
       "      <th>1</th>\n",
       "      <td>2020</td>\n",
       "      <td>IBF96B</td>\n",
       "      <td>11/02/2020</td>\n",
       "      <td>0</td>\n",
       "      <td>Meta</td>\n",
       "      <td>Villavicencio</td>\n",
       "      <td>SI</td>\n",
       "    </tr>\n",
       "    <tr>\n",
       "      <th>2</th>\n",
       "      <td>2020</td>\n",
       "      <td>AUW697</td>\n",
       "      <td>08/12/2020</td>\n",
       "      <td>877,803</td>\n",
       "      <td>Cauca</td>\n",
       "      <td>Mercaderes</td>\n",
       "      <td>NO</td>\n",
       "    </tr>\n",
       "    <tr>\n",
       "      <th>3</th>\n",
       "      <td>2019</td>\n",
       "      <td>FCW577</td>\n",
       "      <td>11/03/2019</td>\n",
       "      <td>414,060</td>\n",
       "      <td>Antioquia</td>\n",
       "      <td>Medellin</td>\n",
       "      <td>SI</td>\n",
       "    </tr>\n",
       "    <tr>\n",
       "      <th>4</th>\n",
       "      <td>2019</td>\n",
       "      <td>EVL11D</td>\n",
       "      <td>24/08/2019</td>\n",
       "      <td>0</td>\n",
       "      <td>Antioquia</td>\n",
       "      <td>Chigorodo</td>\n",
       "      <td>NO</td>\n",
       "    </tr>\n",
       "    <tr>\n",
       "      <th>5</th>\n",
       "      <td>2021</td>\n",
       "      <td>FOR75D</td>\n",
       "      <td>09/08/2021</td>\n",
       "      <td>149,185</td>\n",
       "      <td>Valle del Cauca</td>\n",
       "      <td>Cali</td>\n",
       "      <td>SI</td>\n",
       "    </tr>\n",
       "    <tr>\n",
       "      <th>6</th>\n",
       "      <td>2019</td>\n",
       "      <td>XKX76A</td>\n",
       "      <td>04/10/2019</td>\n",
       "      <td>414,100</td>\n",
       "      <td>Bogota D.C.</td>\n",
       "      <td>Bogota D.C.</td>\n",
       "      <td>SI</td>\n",
       "    </tr>\n",
       "    <tr>\n",
       "      <th>7</th>\n",
       "      <td>2019</td>\n",
       "      <td>ELA11D</td>\n",
       "      <td>27/03/2019</td>\n",
       "      <td>414,060</td>\n",
       "      <td>Antioquia</td>\n",
       "      <td>Medellin</td>\n",
       "      <td>SI</td>\n",
       "    </tr>\n",
       "    <tr>\n",
       "      <th>8</th>\n",
       "      <td>2019</td>\n",
       "      <td>TAY686</td>\n",
       "      <td>13/03/2019</td>\n",
       "      <td>414,100</td>\n",
       "      <td>Bogota D.C.</td>\n",
       "      <td>Bogota D.C.</td>\n",
       "      <td>SI</td>\n",
       "    </tr>\n",
       "    <tr>\n",
       "      <th>9</th>\n",
       "      <td>2019</td>\n",
       "      <td>BPI174</td>\n",
       "      <td>13/03/2019</td>\n",
       "      <td>414,100</td>\n",
       "      <td>Bogota D.C.</td>\n",
       "      <td>Bogota D.C.</td>\n",
       "      <td>NO</td>\n",
       "    </tr>\n",
       "    <tr>\n",
       "      <th>10</th>\n",
       "      <td>2019</td>\n",
       "      <td>FLM417</td>\n",
       "      <td>13/03/2019</td>\n",
       "      <td>414,100</td>\n",
       "      <td>Bogota D.C.</td>\n",
       "      <td>Bogota D.C.</td>\n",
       "      <td>SI</td>\n",
       "    </tr>\n",
       "    <tr>\n",
       "      <th>11</th>\n",
       "      <td>2019</td>\n",
       "      <td>JFK618</td>\n",
       "      <td>13/03/2019</td>\n",
       "      <td>414,100</td>\n",
       "      <td>Bogota D.C.</td>\n",
       "      <td>Bogota D.C.</td>\n",
       "      <td>SI</td>\n",
       "    </tr>\n",
       "    <tr>\n",
       "      <th>12</th>\n",
       "      <td>2019</td>\n",
       "      <td>VDM981</td>\n",
       "      <td>13/03/2019</td>\n",
       "      <td>414,100</td>\n",
       "      <td>Bogota D.C.</td>\n",
       "      <td>Bogota D.C.</td>\n",
       "      <td>SI</td>\n",
       "    </tr>\n",
       "    <tr>\n",
       "      <th>13</th>\n",
       "      <td>2019</td>\n",
       "      <td>OPL57E</td>\n",
       "      <td>11/03/2019</td>\n",
       "      <td>414,060</td>\n",
       "      <td>Huila</td>\n",
       "      <td>Neiva</td>\n",
       "      <td>NO</td>\n",
       "    </tr>\n",
       "    <tr>\n",
       "      <th>14</th>\n",
       "      <td>2020</td>\n",
       "      <td>KLV75B</td>\n",
       "      <td>11/02/2020</td>\n",
       "      <td>438,902</td>\n",
       "      <td>Meta</td>\n",
       "      <td>META</td>\n",
       "      <td>SI</td>\n",
       "    </tr>\n",
       "    <tr>\n",
       "      <th>15</th>\n",
       "      <td>2019</td>\n",
       "      <td>MMJ152</td>\n",
       "      <td>01/02/2019</td>\n",
       "      <td>220,832</td>\n",
       "      <td>Antioquia</td>\n",
       "      <td>Envigado</td>\n",
       "      <td>NO</td>\n",
       "    </tr>\n",
       "    <tr>\n",
       "      <th>16</th>\n",
       "      <td>2019</td>\n",
       "      <td>JVC48E</td>\n",
       "      <td>01/04/2019</td>\n",
       "      <td>414,060</td>\n",
       "      <td>Antioquia</td>\n",
       "      <td>Medellin</td>\n",
       "      <td>NO</td>\n",
       "    </tr>\n",
       "    <tr>\n",
       "      <th>17</th>\n",
       "      <td>2019</td>\n",
       "      <td>RCV453</td>\n",
       "      <td>27/03/2019</td>\n",
       "      <td>414,060</td>\n",
       "      <td>Boyaca</td>\n",
       "      <td>Sogamoso</td>\n",
       "      <td>SI</td>\n",
       "    </tr>\n",
       "    <tr>\n",
       "      <th>18</th>\n",
       "      <td>2021</td>\n",
       "      <td>VYR71E</td>\n",
       "      <td>08/08/2021</td>\n",
       "      <td>895,096</td>\n",
       "      <td>Antioquia</td>\n",
       "      <td>Maceo</td>\n",
       "      <td>NO</td>\n",
       "    </tr>\n",
       "    <tr>\n",
       "      <th>19</th>\n",
       "      <td>2020</td>\n",
       "      <td>ZSF39E</td>\n",
       "      <td>21/06/2020</td>\n",
       "      <td>438,900</td>\n",
       "      <td>Antioquia</td>\n",
       "      <td>Medellin</td>\n",
       "      <td>NO</td>\n",
       "    </tr>\n",
       "  </tbody>\n",
       "</table>\n",
       "</div>"
      ],
      "text/plain": [
       "    VIGENCIA   PLACA FECHA_MULTA VALOR_MULTA     DEPARTAMENTO         CIUDAD  \\\n",
       "0       2019  MIK715  25/01/2019     414,058        Santander    Bucaramanga   \n",
       "1       2020  IBF96B  11/02/2020           0             Meta  Villavicencio   \n",
       "2       2020  AUW697  08/12/2020     877,803            Cauca     Mercaderes   \n",
       "3       2019  FCW577  11/03/2019     414,060        Antioquia       Medellin   \n",
       "4       2019  EVL11D  24/08/2019           0        Antioquia      Chigorodo   \n",
       "5       2021  FOR75D  09/08/2021     149,185  Valle del Cauca           Cali   \n",
       "6       2019  XKX76A  04/10/2019     414,100      Bogota D.C.    Bogota D.C.   \n",
       "7       2019  ELA11D  27/03/2019     414,060        Antioquia       Medellin   \n",
       "8       2019  TAY686  13/03/2019     414,100      Bogota D.C.    Bogota D.C.   \n",
       "9       2019  BPI174  13/03/2019     414,100      Bogota D.C.    Bogota D.C.   \n",
       "10      2019  FLM417  13/03/2019     414,100      Bogota D.C.    Bogota D.C.   \n",
       "11      2019  JFK618  13/03/2019     414,100      Bogota D.C.    Bogota D.C.   \n",
       "12      2019  VDM981  13/03/2019     414,100      Bogota D.C.    Bogota D.C.   \n",
       "13      2019  OPL57E  11/03/2019     414,060            Huila          Neiva   \n",
       "14      2020  KLV75B  11/02/2020     438,902             Meta           META   \n",
       "15      2019  MMJ152  01/02/2019     220,832        Antioquia       Envigado   \n",
       "16      2019  JVC48E  01/04/2019     414,060        Antioquia       Medellin   \n",
       "17      2019  RCV453  27/03/2019     414,060           Boyaca       Sogamoso   \n",
       "18      2021  VYR71E  08/08/2021     895,096        Antioquia          Maceo   \n",
       "19      2020  ZSF39E  21/06/2020     438,900        Antioquia       Medellin   \n",
       "\n",
       "   PAGADO_SI_NO  \n",
       "0            SI  \n",
       "1            SI  \n",
       "2            NO  \n",
       "3            SI  \n",
       "4            NO  \n",
       "5            SI  \n",
       "6            SI  \n",
       "7            SI  \n",
       "8            SI  \n",
       "9            NO  \n",
       "10           SI  \n",
       "11           SI  \n",
       "12           SI  \n",
       "13           NO  \n",
       "14           SI  \n",
       "15           NO  \n",
       "16           NO  \n",
       "17           SI  \n",
       "18           NO  \n",
       "19           NO  "
      ]
     },
     "execution_count": 2,
     "metadata": {},
     "output_type": "execute_result"
    }
   ],
   "source": [
    "# Cargar el archivo CSV\n",
    "df = pd.read_csv(r\"D:\\Downloads\\multas.csv\")\n",
    "\n",
    "# Mostrar las primeras 20 filas\n",
    "df.head(20)"
   ]
  },
  {
   "cell_type": "markdown",
   "id": "01e4c7c2",
   "metadata": {},
   "source": [
    "#1.1 conocer los datos"
   ]
  },
  {
   "cell_type": "code",
   "execution_count": 18,
   "id": "4059a6ae",
   "metadata": {},
   "outputs": [
    {
     "name": "stdout",
     "output_type": "stream",
     "text": [
      " VIGENCIA  PLACA FECHA_MULTA VALOR_MULTA    DEPARTAMENTO        CIUDAD PAGADO_SI_NO\n",
      "     2019 MIK715  25/01/2019     414,058       Santander   Bucaramanga           SI\n",
      "     2020 IBF96B  11/02/2020           0            Meta Villavicencio           SI\n",
      "     2020 AUW697  08/12/2020     877,803           Cauca    Mercaderes           NO\n",
      "     2019 FCW577  11/03/2019     414,060       Antioquia      Medellin           SI\n",
      "     2019 EVL11D  24/08/2019           0       Antioquia     Chigorodo           NO\n",
      "     2021 FOR75D  09/08/2021     149,185 Valle del Cauca          Cali           SI\n",
      "     2019 XKX76A  04/10/2019     414,100     Bogota D.C.   Bogota D.C.           SI\n",
      "     2019 ELA11D  27/03/2019     414,060       Antioquia      Medellin           SI\n",
      "     2019 TAY686  13/03/2019     414,100     Bogota D.C.   Bogota D.C.           SI\n",
      "     2019 BPI174  13/03/2019     414,100     Bogota D.C.   Bogota D.C.           NO\n",
      "     2019 FLM417  13/03/2019     414,100     Bogota D.C.   Bogota D.C.           SI\n",
      "     2019 JFK618  13/03/2019     414,100     Bogota D.C.   Bogota D.C.           SI\n",
      "     2019 VDM981  13/03/2019     414,100     Bogota D.C.   Bogota D.C.           SI\n",
      "     2019 OPL57E  11/03/2019     414,060           Huila         Neiva           NO\n",
      "     2020 KLV75B  11/02/2020     438,902            Meta          META           SI\n",
      "     2019 MMJ152  01/02/2019     220,832       Antioquia      Envigado           NO\n",
      "     2019 JVC48E  01/04/2019     414,060       Antioquia      Medellin           NO\n",
      "     2019 RCV453  27/03/2019     414,060          Boyaca      Sogamoso           SI\n",
      "     2021 VYR71E  08/08/2021     895,096       Antioquia         Maceo           NO\n",
      "     2020 ZSF39E  21/06/2020     438,900       Antioquia      Medellin           NO\n"
     ]
    }
   ],
   "source": [
    "# Muestre la tabla sin importar la cantidad de columnas\n",
    "pd.set_option('display.max_columns', None)\n",
    "print(df.head(20).to_string(index=False))"
   ]
  },
  {
   "cell_type": "code",
   "execution_count": 19,
   "id": "38439342",
   "metadata": {},
   "outputs": [
    {
     "name": "stdout",
     "output_type": "stream",
     "text": [
      "<class 'pandas.core.frame.DataFrame'>\n",
      "RangeIndex: 25234188 entries, 0 to 25234187\n",
      "Data columns (total 7 columns):\n",
      " #   Column        Dtype \n",
      "---  ------        ----- \n",
      " 0   VIGENCIA      int64 \n",
      " 1   PLACA         object\n",
      " 2   FECHA_MULTA   object\n",
      " 3   VALOR_MULTA   object\n",
      " 4   DEPARTAMENTO  object\n",
      " 5   CIUDAD        object\n",
      " 6   PAGADO_SI_NO  object\n",
      "dtypes: int64(1), object(6)\n",
      "memory usage: 1.3+ GB\n",
      "None\n"
     ]
    }
   ],
   "source": [
    "# mostrar la metadata (como estan clasificados los datos)\n",
    "print(df.info())"
   ]
  },
  {
   "cell_type": "markdown",
   "id": "9df2b486",
   "metadata": {},
   "source": [
    "2.1 filtrado y selecion"
   ]
  },
  {
   "cell_type": "code",
   "execution_count": 24,
   "id": "edeb5b84",
   "metadata": {},
   "outputs": [
    {
     "name": "stdout",
     "output_type": "stream",
     "text": [
      " VIGENCIA  PLACA FECHA_MULTA VALOR_MULTA DEPARTAMENTO      CIUDAD PAGADO_SI_NO\n",
      "     2019 XKX76A  04/10/2019     414,100  Bogota D.C. Bogota D.C.           SI\n",
      "     2019 TAY686  13/03/2019     414,100  Bogota D.C. Bogota D.C.           SI\n",
      "     2019 BPI174  13/03/2019     414,100  Bogota D.C. Bogota D.C.           NO\n",
      "     2019 FLM417  13/03/2019     414,100  Bogota D.C. Bogota D.C.           SI\n",
      "     2019 JFK618  13/03/2019     414,100  Bogota D.C. Bogota D.C.           SI\n",
      "     2019 VDM981  13/03/2019     414,100  Bogota D.C. Bogota D.C.           SI\n",
      "     2020 IKX489  22/09/2020     234,100  Bogota D.C. Bogota D.C.           NO\n",
      "     2021 EQZ167  01/03/2021     447,700  Bogota D.C. Bogota D.C.           SI\n",
      "     2021 IAU451  01/03/2021     447,700  Bogota D.C. Bogota D.C.           SI\n",
      "     2021 FNO652  15/10/2021     447,700  Bogota D.C. Bogota D.C.           SI\n",
      "     2019 AIQ94F  06/05/2019     414,100  Bogota D.C. Bogota D.C.           SI\n",
      "     2020 CDP093  15/01/2020     438,900  Bogota D.C. Bogota D.C.           SI\n",
      "     2021 LKI664  03/11/2021     447,700  Bogota D.C. Bogota D.C.           SI\n",
      "     2020 ZZX681  22/09/2020     438,900  Bogota D.C. Bogota D.C.           SI\n",
      "     2020 EXZ657  22/09/2020     877,800  Bogota D.C. Bogota D.C.           SI\n",
      "     2020 CVM335  10/01/2020     438,900  Bogota D.C. Bogota D.C.           SI\n",
      "     2020 BTU467  16/12/2020     438,900  Bogota D.C. Bogota D.C.           SI\n",
      "     2021 FZN770  12/10/2021     447,700  Bogota D.C. Bogota D.C.           SI\n",
      "     2021 HIW723  25/11/2021     447,700  Bogota D.C. Bogota D.C.           SI\n",
      "     2021 TKD84E  25/11/2021     447,700  Bogota D.C. Bogota D.C.           SI\n",
      "     2020 CVA392  02/01/2020     438,900  Bogota D.C. Bogota D.C.           SI\n",
      "     2021 CZV089  12/10/2021     447,700  Bogota D.C. Bogota D.C.           SI\n",
      "     2021 RMV917  25/11/2021     447,700  Bogota D.C. Bogota D.C.           NO\n",
      "     2021 BTT529  25/11/2021     447,700  Bogota D.C. Bogota D.C.           NO\n",
      "     2019 VEB100  05/07/2019     414,100  Bogota D.C. Bogota D.C.           SI\n",
      "     2020 INB28F  16/12/2020     438,900  Bogota D.C. Bogota D.C.           NO\n",
      "     2021 EBX606  04/04/2021     447,700  Bogota D.C. Bogota D.C.           SI\n",
      "     2020 AVO90F  22/09/2020     877,800  Bogota D.C. Bogota D.C.           NO\n",
      "La cantidad de registros de Bogotá D.C. es 3871898\n"
     ]
    }
   ],
   "source": [
    "# Seleccionar Bogotá para el ejercicio de clase... tarea (hacerlo con sus ciudades de origen o de gusto)\n",
    "df_bogota = df[df[\"DEPARTAMENTO\"] == \"Bogota D.C.\"]\n",
    "\n",
    "print(df_bogota.head(28).to_string(index=False))\n",
    "print(f\"La cantidad de registros de Bogotá D.C. es {df_bogota.shape[0]}\")"
   ]
  },
  {
   "cell_type": "markdown",
   "id": "a625add7",
   "metadata": {},
   "source": [
    "# 2.2 conocer las vigencias"
   ]
  },
  {
   "cell_type": "code",
   "execution_count": 25,
   "id": "b7f9b794",
   "metadata": {},
   "outputs": [
    {
     "name": "stdout",
     "output_type": "stream",
     "text": [
      "[2019 2020 2021 2023 2022]\n"
     ]
    }
   ],
   "source": [
    "# Obtener los datos únicos de las vigencias\n",
    "print(df_bogota[\"VIGENCIA\"].unique())"
   ]
  },
  {
   "cell_type": "code",
   "execution_count": 26,
   "id": "7067f96a",
   "metadata": {},
   "outputs": [
    {
     "name": "stdout",
     "output_type": "stream",
     "text": [
      "VIGENCIA          0\n",
      "PLACA           112\n",
      "FECHA_MULTA       0\n",
      "VALOR_MULTA       0\n",
      "DEPARTAMENTO      0\n",
      "CIUDAD            0\n",
      "PAGADO_SI_NO      0\n",
      "dtype: int64\n"
     ]
    }
   ],
   "source": [
    "# Obtener el conteo de valores nulos por columna\n",
    "print(df_bogota.isnull().sum())\n",
    "\n",
    "# Eliminar filas con valores nulos (si existieren)\n",
    "# df_bogota.dropna(inplace=True)"
   ]
  },
  {
   "cell_type": "markdown",
   "id": "e53bc57e",
   "metadata": {},
   "source": [
    "# 3. ETL\n",
    "\n",
    "Limpieza y transformación de los datos:\n",
    "\n",
    "1. Borrado de registros con datos nulos\n",
    "2. Crear nuevas columnas\n",
    "3. Transformar columnas en datos reconocidos (números/texto/fechas/listas)"
   ]
  },
  {
   "cell_type": "code",
   "execution_count": 27,
   "id": "91171c5c",
   "metadata": {},
   "outputs": [
    {
     "name": "stderr",
     "output_type": "stream",
     "text": [
      "C:\\Users\\efren\\AppData\\Local\\Temp\\ipykernel_33284\\3492614057.py:1: SettingWithCopyWarning: \n",
      "A value is trying to be set on a copy of a slice from a DataFrame.\n",
      "Try using .loc[row_indexer,col_indexer] = value instead\n",
      "\n",
      "See the caveats in the documentation: https://pandas.pydata.org/pandas-docs/stable/user_guide/indexing.html#returning-a-view-versus-a-copy\n",
      "  df_bogota[\"VALOR_MULTA\"] = df_bogota[\"VALOR_MULTA\"].astype(str).str.replace(',', '', regex=False)\n"
     ]
    },
    {
     "name": "stdout",
     "output_type": "stream",
     "text": [
      "<class 'pandas.core.frame.DataFrame'>\n",
      "Index: 3871898 entries, 6 to 19958139\n",
      "Data columns (total 7 columns):\n",
      " #   Column        Dtype \n",
      "---  ------        ----- \n",
      " 0   VIGENCIA      int64 \n",
      " 1   PLACA         object\n",
      " 2   FECHA_MULTA   object\n",
      " 3   VALOR_MULTA   int64 \n",
      " 4   DEPARTAMENTO  object\n",
      " 5   CIUDAD        object\n",
      " 6   PAGADO_SI_NO  object\n",
      "dtypes: int64(2), object(5)\n",
      "memory usage: 236.3+ MB\n",
      "None\n"
     ]
    },
    {
     "name": "stderr",
     "output_type": "stream",
     "text": [
      "C:\\Users\\efren\\AppData\\Local\\Temp\\ipykernel_33284\\3492614057.py:2: SettingWithCopyWarning: \n",
      "A value is trying to be set on a copy of a slice from a DataFrame.\n",
      "Try using .loc[row_indexer,col_indexer] = value instead\n",
      "\n",
      "See the caveats in the documentation: https://pandas.pydata.org/pandas-docs/stable/user_guide/indexing.html#returning-a-view-versus-a-copy\n",
      "  df_bogota[\"VALOR_MULTA\"] = pd.to_numeric(df_bogota[\"VALOR_MULTA\"], errors='coerce')\n"
     ]
    }
   ],
   "source": [
    "df_bogota[\"VALOR_MULTA\"] = df_bogota[\"VALOR_MULTA\"].astype(str).str.replace(',', '', regex=False)\n",
    "df_bogota[\"VALOR_MULTA\"] = pd.to_numeric(df_bogota[\"VALOR_MULTA\"], errors='coerce')\n",
    "\n",
    "print(df_bogota.info())"
   ]
  },
  {
   "cell_type": "code",
   "execution_count": 33,
   "id": "258120f7",
   "metadata": {},
   "outputs": [
    {
     "name": "stdout",
     "output_type": "stream",
     "text": [
      "<class 'pandas.core.frame.DataFrame'>\n",
      "Index: 3871898 entries, 6 to 19958139\n",
      "Data columns (total 8 columns):\n",
      " #   Column            Dtype \n",
      "---  ------            ----- \n",
      " 0   VIGENCIA          int64 \n",
      " 1   PLACA             object\n",
      " 2   FECHA_MULTA       object\n",
      " 3   VALOR_MULTA       int64 \n",
      " 4   DEPARTAMENTO      object\n",
      " 5   CIUDAD            object\n",
      " 6   PAGADO_SI_NO      object\n",
      " 7   PAGADO_SI_NO_NUM  int64 \n",
      "dtypes: int64(3), object(5)\n",
      "memory usage: 265.9+ MB\n",
      "None\n"
     ]
    },
    {
     "name": "stderr",
     "output_type": "stream",
     "text": [
      "C:\\Users\\efren\\AppData\\Local\\Temp\\ipykernel_33284\\3002174206.py:1: SettingWithCopyWarning: \n",
      "A value is trying to be set on a copy of a slice from a DataFrame.\n",
      "Try using .loc[row_indexer,col_indexer] = value instead\n",
      "\n",
      "See the caveats in the documentation: https://pandas.pydata.org/pandas-docs/stable/user_guide/indexing.html#returning-a-view-versus-a-copy\n",
      "  df_bogota['PAGADO_SI_NO_NUM'] = df_bogota['PAGADO_SI_NO'].apply(lambda x: 1 if x == \"SI\" else 0)\n"
     ]
    }
   ],
   "source": [
    "df_bogota['PAGADO_SI_NO_NUM'] = df_bogota['PAGADO_SI_NO'].apply(lambda x: 1 if x == \"SI\" else 0)\n",
    "print(df_bogota.info())\n",
    "#print(df_bogota.head())"
   ]
  },
  {
   "cell_type": "code",
   "execution_count": 34,
   "id": "c964e7f4",
   "metadata": {},
   "outputs": [
    {
     "name": "stdout",
     "output_type": "stream",
     "text": [
      " VIGENCIA  PLACA FECHA_MULTA  VALOR_MULTA DEPARTAMENTO      CIUDAD PAGADO_SI_NO  PAGADO_SI_NO_NUM\n",
      "     2019 XKX76A  04/10/2019       414100  Bogota D.C. Bogota D.C.           SI                 1\n",
      "     2019 TAY686  13/03/2019       414100  Bogota D.C. Bogota D.C.           SI                 1\n",
      "     2019 BPI174  13/03/2019       414100  Bogota D.C. Bogota D.C.           NO                 0\n",
      "     2019 FLM417  13/03/2019       414100  Bogota D.C. Bogota D.C.           SI                 1\n",
      "     2019 JFK618  13/03/2019       414100  Bogota D.C. Bogota D.C.           SI                 1\n",
      "     2019 VDM981  13/03/2019       414100  Bogota D.C. Bogota D.C.           SI                 1\n",
      "     2020 IKX489  22/09/2020       234100  Bogota D.C. Bogota D.C.           NO                 0\n",
      "     2021 EQZ167  01/03/2021       447700  Bogota D.C. Bogota D.C.           SI                 1\n",
      "     2021 IAU451  01/03/2021       447700  Bogota D.C. Bogota D.C.           SI                 1\n",
      "     2021 FNO652  15/10/2021       447700  Bogota D.C. Bogota D.C.           SI                 1\n",
      "     2019 AIQ94F  06/05/2019       414100  Bogota D.C. Bogota D.C.           SI                 1\n",
      "     2020 CDP093  15/01/2020       438900  Bogota D.C. Bogota D.C.           SI                 1\n",
      "     2021 LKI664  03/11/2021       447700  Bogota D.C. Bogota D.C.           SI                 1\n",
      "     2020 ZZX681  22/09/2020       438900  Bogota D.C. Bogota D.C.           SI                 1\n",
      "     2020 EXZ657  22/09/2020       877800  Bogota D.C. Bogota D.C.           SI                 1\n",
      "     2020 CVM335  10/01/2020       438900  Bogota D.C. Bogota D.C.           SI                 1\n",
      "     2020 BTU467  16/12/2020       438900  Bogota D.C. Bogota D.C.           SI                 1\n",
      "     2021 FZN770  12/10/2021       447700  Bogota D.C. Bogota D.C.           SI                 1\n",
      "     2021 HIW723  25/11/2021       447700  Bogota D.C. Bogota D.C.           SI                 1\n",
      "     2021 TKD84E  25/11/2021       447700  Bogota D.C. Bogota D.C.           SI                 1\n",
      "     2020 CVA392  02/01/2020       438900  Bogota D.C. Bogota D.C.           SI                 1\n",
      "     2021 CZV089  12/10/2021       447700  Bogota D.C. Bogota D.C.           SI                 1\n",
      "     2021 RMV917  25/11/2021       447700  Bogota D.C. Bogota D.C.           NO                 0\n",
      "     2021 BTT529  25/11/2021       447700  Bogota D.C. Bogota D.C.           NO                 0\n",
      "     2019 VEB100  05/07/2019       414100  Bogota D.C. Bogota D.C.           SI                 1\n",
      "     2020 INB28F  16/12/2020       438900  Bogota D.C. Bogota D.C.           NO                 0\n"
     ]
    }
   ],
   "source": [
    "print(df_bogota.head(26).to_string(index=False))"
   ]
  },
  {
   "cell_type": "code",
   "execution_count": 35,
   "id": "4caabe1f",
   "metadata": {},
   "outputs": [
    {
     "name": "stdout",
     "output_type": "stream",
     "text": [
      "count    3871898.000000\n",
      "mean      503016.944097\n",
      "std       213851.704531\n",
      "min            0.000000\n",
      "25%       438900.000000\n",
      "50%       468500.000000\n",
      "75%       522900.000000\n",
      "max     39749600.000000\n",
      "Name: VALOR_MULTA, dtype: float64\n",
      "VIGENCIA\n",
      "2019    422810.607262\n",
      "2020    452831.633270\n",
      "2021    474441.471548\n",
      "2022    512833.481526\n",
      "2023    570499.032588\n",
      "Name: VALOR_MULTA, dtype: float64\n"
     ]
    }
   ],
   "source": [
    "# Estadísticas descriptivas con VALOR_MULTA\n",
    "with pd.option_context('display.float_format', '{:f}'.format):\n",
    "    print(df_bogota['VALOR_MULTA'].describe())\n",
    "\n",
    "# Calcular el promedio de multas por vigencia (año)\n",
    "multas_promedio_por_vigencia = df_bogota.groupby('VIGENCIA')['VALOR_MULTA'].mean()\n",
    "print(multas_promedio_por_vigencia)"
   ]
  },
  {
   "cell_type": "code",
   "execution_count": 38,
   "id": "2a2fb6d7",
   "metadata": {},
   "outputs": [
    {
     "name": "stdout",
     "output_type": "stream",
     "text": [
      "Porcentaje de multas pagadas por vigencia (año)\n",
      "PAGADO_SI_NO         NO         SI  TOTAL\n",
      "VIGENCIA                                 \n",
      "2019          18.756310  81.243690  100.0\n",
      "2020          36.388183  63.611817  100.0\n",
      "2021          46.878995  53.121005  100.0\n",
      "2022          52.303577  47.696423  100.0\n",
      "2023          53.837937  46.162063  100.0\n"
     ]
    }
   ],
   "source": [
    "# Tabla para ver el porcentaje de multas pagadas (si/no) por vigencia\n",
    "multas_counts = df_bogota.groupby(['VIGENCIA', 'PAGADO_SI_NO']).size().unstack(fill_value=0)\n",
    "multas_counts['TOTAL'] = multas_counts.sum(axis=1)\n",
    "multas_porcentaje = multas_counts.div(multas_counts['TOTAL'], axis=0) * 100\n",
    "print(\"Porcentaje de multas pagadas por vigencia (año)\")\n",
    "print(multas_porcentaje)"
   ]
  },
  {
   "cell_type": "code",
   "execution_count": 42,
   "id": "b31ac3d9",
   "metadata": {},
   "outputs": [
    {
     "name": "stdout",
     "output_type": "stream",
     "text": [
      "PAGADO_SI_NO      NO      SI    TOTAL  PORCENTAJE\n",
      "VIGENCIA                                         \n",
      "2019          117790  510212   628002   81.243690\n",
      "2020          172226  301076   473302   63.611817\n",
      "2021          249708  282957   532665   53.121005\n",
      "2022          559415  510139  1069554   47.696423\n",
      "2023          629029  539346  1168375   46.162063\n"
     ]
    },
    {
     "data": {
      "image/png": "[encoded data removed]",
      "text/plain": [
       "<Figure size 1000x600 with 1 Axes>"
      ]
     },
     "metadata": {},
     "output_type": "display_data"
    }
   ],
   "source": [
    "# Tabla para ver el porcentaje de multas pagadas (si/no) por vigencia\n",
    "multas_porcentaje = df_bogota.groupby(['VIGENCIA', \"PAGADO_SI_NO\"]).size().unstack(fill_value=0)\n",
    "multas_porcentaje['TOTAL'] = multas_porcentaje.sum(axis=1)\n",
    "multas_porcentaje['PORCENTAJE'] = multas_porcentaje['SI'] / multas_porcentaje['TOTAL'] * 100\n",
    "\n",
    "print(multas_porcentaje)\n",
    "\n",
    "# Gráfico de barras apiladas\n",
    "multas_porcentaje[['SI','NO']].plot(kind='bar', stacked=True, figsize=(10,6), colormap='viridis')\n",
    "plt.title('Porcentaje de multas pagadas por vigencia')\n",
    "plt.xlabel('Vigencia')\n",
    "plt.ylabel('Porcentaje (%)')\n",
    "plt.tight_layout()\n",
    "plt.show()"
   ]
  },
  {
   "cell_type": "code",
   "execution_count": 44,
   "id": "2567eafb",
   "metadata": {},
   "outputs": [
    {
     "data": {
      "image/png": "[encoded data removed]",
      "text/plain": [
       "<Figure size 1000x600 with 1 Axes>"
      ]
     },
     "metadata": {},
     "output_type": "display_data"
    }
   ],
   "source": [
    "multas_porcentaje[['SI', 'NO']].plot(kind='line', figsize=(10, 6), colormap='viridis')\n",
    "plt.title('Tendencia del porcentaje de multas pagadas y no pagadas por vigencia')\n",
    "plt.xlabel('Vigencia')\n",
    "plt.ylabel('Porcentaje (%)')\n",
    "plt.grid(True)\n",
    "plt.tight_layout()\n",
    "plt.show()"
   ]
  },
  {
   "cell_type": "markdown",
   "id": "511ff883",
   "metadata": {},
   "source": [
    "6 Analisis Boyaca"
   ]
  },
  {
   "cell_type": "code",
   "execution_count": 45,
   "id": "af7f36e6",
   "metadata": {},
   "outputs": [
    {
     "name": "stdout",
     "output_type": "stream",
     "text": [
      " VIGENCIA  PLACA FECHA_MULTA VALOR_MULTA DEPARTAMENTO        CIUDAD PAGADO_SI_NO\n",
      "     2019 RCV453  27/03/2019     414,060       Boyaca      Sogamoso           SI\n",
      "     2021 FTN098  04/12/2021     447,555       Boyaca      Sogamoso           SI\n",
      "     2019  GDS45  24/03/2019     414,060       Boyaca         Tunja           SI\n",
      "     2019 NVC35E  23/03/2019     414,060       Boyaca         Tunja           SI\n",
      "     2019 NDZ459  25/03/2019     828,120       Boyaca         Tunja           NO\n",
      "     2019 NCL429  30/05/2019     414,060       Boyaca         Tunja           SI\n",
      "     2019 DUE453  27/03/2019     414,060       Boyaca         Tunja           NO\n",
      "     2019 GFH16E  28/03/2019     414,060       Boyaca       Duitama           SI\n",
      "     2020 HWY838  29/05/2020     438,900       Boyaca      Sogamoso           SI\n",
      "     2019 TAO449  02/12/2019     414,060       Boyaca      Sogamoso           SI\n",
      "     2019 SQW099  11/04/2019     220,832       Boyaca      Sogamoso           SI\n",
      "     2019 KIU423  22/04/2019     414,060       Boyaca      Sogamoso           SI\n",
      "     2019 WPY92C  23/04/2019     414,060       Boyaca      Sogamoso           SI\n",
      "     2019 XYS82C  24/04/2019     414,060       Boyaca      Sogamoso           SI\n",
      "     2020 ENP147  25/07/2020     438,902       Boyaca Puerto Boyaca           SI\n",
      "     2019 RCT217  10/04/2019     414,060       Boyaca      Sogamoso           SI\n",
      "     2019 EWB93B  28/06/2019     414,060       Boyaca Puerto Boyaca           NO\n",
      "     2019 RNL326  26/11/2019     414,060       Boyaca      Sogamoso           SI\n",
      "     2019 DUE715  22/11/2019     414,060       Boyaca      Sogamoso           SI\n",
      "     2019 MJW401  26/11/2019     414,060       Boyaca      Sogamoso           SI\n",
      "     2019 RFM59C  08/08/2019     828,116       Boyaca       Combita           SI\n",
      "     2021 CLR988  05/08/2021     447,548       Boyaca     Moniquira           SI\n",
      "     2019 DBN801  20/06/2019     414,058       Boyaca  Chiquinquira           SI\n",
      "     2021 CRV671  03/08/2021     447,548       Boyaca         Paipa           NO\n",
      "     2021 CHG402  04/08/2021     895,096       Boyaca         Nobsa           SI\n",
      "     2019 AIH275  19/03/2019     138,020       Boyaca       Garagoa           SI\n",
      "     2019 RKK218  20/03/2019     220,832       Boyaca       Garagoa           SI\n",
      "     2019 BZX531  06/01/2019     220,832       Boyaca       Duitama           SI\n",
      "La cantidad de registros de Boyaca es 228892\n"
     ]
    }
   ],
   "source": [
    "# Seleccionar Bogotá para el ejercicio de clase... tarea (hacerlo con sus ciudades de origen o de gusto)\n",
    "df_boyaca = df[df[\"DEPARTAMENTO\"] == \"Boyaca\"]\n",
    "\n",
    "print(df_boyaca.head(28).to_string(index=False))\n",
    "print(f\"La cantidad de registros de Boyaca es {df_boyaca.shape[0]}\")"
   ]
  },
  {
   "cell_type": "code",
   "execution_count": 46,
   "id": "8af99fdb",
   "metadata": {},
   "outputs": [
    {
     "name": "stdout",
     "output_type": "stream",
     "text": [
      "[2019 2021 2020 2023 2022]\n"
     ]
    }
   ],
   "source": [
    "# Obtener los datos únicos de las vigencias\n",
    "print(df_boyaca[\"VIGENCIA\"].unique())"
   ]
  },
  {
   "cell_type": "code",
   "execution_count": 47,
   "id": "bf111f25",
   "metadata": {},
   "outputs": [
    {
     "name": "stdout",
     "output_type": "stream",
     "text": [
      "VIGENCIA         0\n",
      "PLACA           12\n",
      "FECHA_MULTA      0\n",
      "VALOR_MULTA      0\n",
      "DEPARTAMENTO     0\n",
      "CIUDAD           0\n",
      "PAGADO_SI_NO     0\n",
      "dtype: int64\n"
     ]
    }
   ],
   "source": [
    "# Obtener el conteo de valores nulos por columna\n",
    "print(df_boyaca.isnull().sum())\n",
    "\n",
    "# Eliminar filas con valores nulos (si existieren)\n",
    "# df_boyaca.dropna(inplace=True)"
   ]
  },
  {
   "cell_type": "code",
   "execution_count": 48,
   "id": "947b1a42",
   "metadata": {},
   "outputs": [
    {
     "name": "stdout",
     "output_type": "stream",
     "text": [
      "<class 'pandas.core.frame.DataFrame'>\n",
      "Index: 228892 entries, 17 to 19957207\n",
      "Data columns (total 8 columns):\n",
      " #   Column            Non-Null Count   Dtype \n",
      "---  ------            --------------   ----- \n",
      " 0   VIGENCIA          228892 non-null  int64 \n",
      " 1   PLACA             228880 non-null  object\n",
      " 2   FECHA_MULTA       228892 non-null  object\n",
      " 3   VALOR_MULTA       228892 non-null  object\n",
      " 4   DEPARTAMENTO      228892 non-null  object\n",
      " 5   CIUDAD            228892 non-null  object\n",
      " 6   PAGADO_SI_NO      228892 non-null  object\n",
      " 7   PAGADO_SI_NO_NUM  228892 non-null  int64 \n",
      "dtypes: int64(2), object(6)\n",
      "memory usage: 15.7+ MB\n",
      "None\n"
     ]
    },
    {
     "name": "stderr",
     "output_type": "stream",
     "text": [
      "C:\\Users\\efren\\AppData\\Local\\Temp\\ipykernel_33284\\3172657062.py:1: SettingWithCopyWarning: \n",
      "A value is trying to be set on a copy of a slice from a DataFrame.\n",
      "Try using .loc[row_indexer,col_indexer] = value instead\n",
      "\n",
      "See the caveats in the documentation: https://pandas.pydata.org/pandas-docs/stable/user_guide/indexing.html#returning-a-view-versus-a-copy\n",
      "  df_boyaca['PAGADO_SI_NO_NUM'] = df_boyaca['PAGADO_SI_NO'].apply(lambda x: 1 if x == \"SI\" else 0)\n"
     ]
    }
   ],
   "source": [
    "df_boyaca['PAGADO_SI_NO_NUM'] = df_boyaca['PAGADO_SI_NO'].apply(lambda x: 1 if x == \"SI\" else 0)\n",
    "print(df_boyaca.info())\n",
    "#print(df_boyaca.head())"
   ]
  },
  {
   "cell_type": "code",
   "execution_count": 49,
   "id": "fb742eed",
   "metadata": {},
   "outputs": [
    {
     "name": "stdout",
     "output_type": "stream",
     "text": [
      " VIGENCIA  PLACA FECHA_MULTA VALOR_MULTA DEPARTAMENTO        CIUDAD PAGADO_SI_NO  PAGADO_SI_NO_NUM\n",
      "     2019 RCV453  27/03/2019     414,060       Boyaca      Sogamoso           SI                 1\n",
      "     2021 FTN098  04/12/2021     447,555       Boyaca      Sogamoso           SI                 1\n",
      "     2019  GDS45  24/03/2019     414,060       Boyaca         Tunja           SI                 1\n",
      "     2019 NVC35E  23/03/2019     414,060       Boyaca         Tunja           SI                 1\n",
      "     2019 NDZ459  25/03/2019     828,120       Boyaca         Tunja           NO                 0\n",
      "     2019 NCL429  30/05/2019     414,060       Boyaca         Tunja           SI                 1\n",
      "     2019 DUE453  27/03/2019     414,060       Boyaca         Tunja           NO                 0\n",
      "     2019 GFH16E  28/03/2019     414,060       Boyaca       Duitama           SI                 1\n",
      "     2020 HWY838  29/05/2020     438,900       Boyaca      Sogamoso           SI                 1\n",
      "     2019 TAO449  02/12/2019     414,060       Boyaca      Sogamoso           SI                 1\n",
      "     2019 SQW099  11/04/2019     220,832       Boyaca      Sogamoso           SI                 1\n",
      "     2019 KIU423  22/04/2019     414,060       Boyaca      Sogamoso           SI                 1\n",
      "     2019 WPY92C  23/04/2019     414,060       Boyaca      Sogamoso           SI                 1\n",
      "     2019 XYS82C  24/04/2019     414,060       Boyaca      Sogamoso           SI                 1\n",
      "     2020 ENP147  25/07/2020     438,902       Boyaca Puerto Boyaca           SI                 1\n",
      "     2019 RCT217  10/04/2019     414,060       Boyaca      Sogamoso           SI                 1\n",
      "     2019 EWB93B  28/06/2019     414,060       Boyaca Puerto Boyaca           NO                 0\n",
      "     2019 RNL326  26/11/2019     414,060       Boyaca      Sogamoso           SI                 1\n",
      "     2019 DUE715  22/11/2019     414,060       Boyaca      Sogamoso           SI                 1\n",
      "     2019 MJW401  26/11/2019     414,060       Boyaca      Sogamoso           SI                 1\n",
      "     2019 RFM59C  08/08/2019     828,116       Boyaca       Combita           SI                 1\n",
      "     2021 CLR988  05/08/2021     447,548       Boyaca     Moniquira           SI                 1\n",
      "     2019 DBN801  20/06/2019     414,058       Boyaca  Chiquinquira           SI                 1\n",
      "     2021 CRV671  03/08/2021     447,548       Boyaca         Paipa           NO                 0\n",
      "     2021 CHG402  04/08/2021     895,096       Boyaca         Nobsa           SI                 1\n",
      "     2019 AIH275  19/03/2019     138,020       Boyaca       Garagoa           SI                 1\n"
     ]
    }
   ],
   "source": [
    "print(df_boyaca.head(26).to_string(index=False))"
   ]
  },
  {
   "cell_type": "code",
   "execution_count": 53,
   "id": "a1fbc201",
   "metadata": {},
   "outputs": [
    {
     "name": "stdout",
     "output_type": "stream",
     "text": [
      "Tipo de datos de VALOR_MULTA: object\n",
      "count      228892.000000\n",
      "mean       608925.874255\n",
      "std       1776110.169937\n",
      "min             0.000000\n",
      "25%        414060.000000\n",
      "50%        447555.000000\n",
      "75%        523000.000000\n",
      "max     100376640.000000\n",
      "Name: VALOR_MULTA, dtype: float64\n",
      "VIGENCIA\n",
      "2019    513438.640492\n",
      "2020    545983.749814\n",
      "2021    589873.067144\n",
      "2022    684543.248335\n",
      "2023    695871.038992\n",
      "Name: VALOR_MULTA, dtype: float64\n",
      "count      228892.000000\n",
      "mean       608925.874255\n",
      "std       1776110.169937\n",
      "min             0.000000\n",
      "25%        414060.000000\n",
      "50%        447555.000000\n",
      "75%        523000.000000\n",
      "max     100376640.000000\n",
      "Name: VALOR_MULTA, dtype: float64\n",
      "VIGENCIA\n",
      "2019    513438.640492\n",
      "2020    545983.749814\n",
      "2021    589873.067144\n",
      "2022    684543.248335\n",
      "2023    695871.038992\n",
      "Name: VALOR_MULTA, dtype: float64\n"
     ]
    },
    {
     "name": "stderr",
     "output_type": "stream",
     "text": [
      "C:\\Users\\efren\\AppData\\Local\\Temp\\ipykernel_33284\\1334232112.py:7: SettingWithCopyWarning: \n",
      "A value is trying to be set on a copy of a slice from a DataFrame.\n",
      "Try using .loc[row_indexer,col_indexer] = value instead\n",
      "\n",
      "See the caveats in the documentation: https://pandas.pydata.org/pandas-docs/stable/user_guide/indexing.html#returning-a-view-versus-a-copy\n",
      "  df_boyaca['VALOR_MULTA'] = (\n"
     ]
    }
   ],
   "source": [
    "# Verificar el tipo de datos actual\n",
    "print(\"Tipo de datos de VALOR_MULTA:\", df_boyaca['VALOR_MULTA'].dtype)\n",
    "\n",
    "# Si es object, convertir a numérico\n",
    "if df_boyaca['VALOR_MULTA'].dtype == 'object':\n",
    "    # Limpiar y convertir la columna\n",
    "    df_boyaca['VALOR_MULTA'] = (\n",
    "        df_boyaca['VALOR_MULTA']\n",
    "        .astype(str)\n",
    "        .str.replace(',', '')  # Eliminar comas (separadores de miles)\n",
    "        .str.replace('$', '')  # Eliminar símbolos de moneda si existen\n",
    "        .str.replace(' ', '')  # Eliminar espacios\n",
    "        .apply(pd.to_numeric, errors='coerce')  # Convertir a numérico, forzando errores a NaN\n",
    "    )\n",
    "\n",
    "# Ahora intentar las estadísticas descriptivas y el promedio\n",
    "with pd.option_context('display.float_format', '{:f}'.format):\n",
    "    print(df_boyaca['VALOR_MULTA'].describe())\n",
    "\n",
    "# Calcular el promedio de multas por vigencia (año)\n",
    "multas_promedio_por_vigencia = df_boyaca.groupby('VIGENCIA')['VALOR_MULTA'].mean()\n",
    "print(multas_promedio_por_vigencia)"
   ]
  },
  {
   "cell_type": "code",
   "execution_count": 54,
   "id": "4ef05888",
   "metadata": {},
   "outputs": [
    {
     "name": "stdout",
     "output_type": "stream",
     "text": [
      "Porcentaje de multas pagadas por vigencia (año)\n",
      "PAGADO_SI_NO         NO         SI  TOTAL\n",
      "VIGENCIA                                 \n",
      "2019          19.498732  80.501268  100.0\n",
      "2020          21.929911  78.070089  100.0\n",
      "2021          22.678301  77.321699  100.0\n",
      "2022          25.839256  74.160744  100.0\n",
      "2023          28.254651  71.745349  100.0\n"
     ]
    }
   ],
   "source": [
    "# Tabla para ver el porcentaje de multas pagadas (si/no) por vigencia\n",
    "multas_counts = df_boyaca.groupby(['VIGENCIA', 'PAGADO_SI_NO']).size().unstack(fill_value=0)\n",
    "multas_counts['TOTAL'] = multas_counts.sum(axis=1)\n",
    "multas_porcentaje = multas_counts.div(multas_counts['TOTAL'], axis=0) * 100\n",
    "print(\"Porcentaje de multas pagadas por vigencia (año)\")\n",
    "print(multas_porcentaje)"
   ]
  },
  {
   "cell_type": "code",
   "execution_count": 57,
   "id": "e4b7c217",
   "metadata": {},
   "outputs": [
    {
     "name": "stdout",
     "output_type": "stream",
     "text": [
      "PAGADO_SI_NO     NO     SI  TOTAL  PORCENTAJE\n",
      "VIGENCIA                                     \n",
      "2019           9997  41273  51270   80.501268\n",
      "2020           8861  31545  40406   78.070089\n",
      "2021           8525  29066  37591   77.321699\n",
      "2022          11561  33181  44742   74.160744\n",
      "2023          15507  39376  54883   71.745349\n"
     ]
    },
    {
     "data": {
      "image/png": "[encoded data removed]",
      "text/plain": [
       "<Figure size 1000x600 with 1 Axes>"
      ]
     },
     "metadata": {},
     "output_type": "display_data"
    }
   ],
   "source": [
    "# Tabla para ver el porcentaje de multas pagadas (si/no) por vigencia\n",
    "multas_porcentaje = df_boyaca.groupby(['VIGENCIA', \"PAGADO_SI_NO\"]).size().unstack(fill_value=0)\n",
    "multas_porcentaje['TOTAL'] = multas_porcentaje.sum(axis=1)\n",
    "multas_porcentaje['PORCENTAJE'] = multas_porcentaje['SI'] / multas_porcentaje['TOTAL'] * 100\n",
    "\n",
    "print(multas_porcentaje)\n",
    "\n",
    "# Gráfico de barras apiladas\n",
    "multas_porcentaje[['SI','NO']].plot(kind='bar', stacked=True, figsize=(10,6), colormap='viridis')\n",
    "plt.title('Porcentaje de multas pagadas por vigencia en boyaca')\n",
    "plt.xlabel('Vigencia')\n",
    "plt.ylabel('Porcentaje (%)')\n",
    "plt.tight_layout()\n",
    "plt.show()"
   ]
  },
  {
   "cell_type": "code",
   "execution_count": 58,
   "id": "8ef20a74",
   "metadata": {},
   "outputs": [
    {
     "data": {
      "image/png": "[encoded data removed]",
      "text/plain": [
       "<Figure size 1000x600 with 1 Axes>"
      ]
     },
     "metadata": {},
     "output_type": "display_data"
    }
   ],
   "source": [
    "multas_porcentaje[['SI', 'NO']].plot(kind='line', figsize=(10, 6), colormap='viridis')\n",
    "plt.title('Tendencia del porcentaje de multas pagadas y no pagadas por vigencia')\n",
    "plt.xlabel('Vigencia')\n",
    "plt.ylabel('Porcentaje (%)')\n",
    "plt.grid(True)\n",
    "plt.tight_layout()\n",
    "plt.show()"
   ]
  }
 ],
 "metadata": {
  "kernelspec": {
   "display_name": "Python 3",
   "language": "python",
   "name": "python3"
  },
  "language_info": {
   "codemirror_mode": {
    "name": "ipython",
    "version": 3
   },
   "file_extension": ".py",
   "mimetype": "text/x-python",
   "name": "python",
   "nbconvert_exporter": "python",
   "pygments_lexer": "ipython3",
   "version": "3.12.4"
  }
 },
 "nbformat": 4,
 "nbformat_minor": 5
}
