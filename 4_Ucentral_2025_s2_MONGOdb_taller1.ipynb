{
  "cells": [
    {
      "cell_type": "markdown",
      "metadata": {
        "id": "tHApgJCpMeC7"
      },
      "source": [
        "# Taller básico sobre MONGOdb\n",
        "----\n",
        "\n",
        "\n",
        "1.   Instalar librerías\n",
        "2.   descargar e instalar un Sevidor propio de MongoDb\n",
        "3.   Crear una Bd\n",
        "4.   Crear colecciones\n",
        "5.   descargar .zip (csv) cargarlos en una Colección\n",
        "\n"
      ]
    },
    {
      "cell_type": "markdown",
      "metadata": {
        "id": "SYvuSQKtNajN"
      },
      "source": [
        "# 1.Instalar librerías"
      ]
    },
    {
      "cell_type": "code",
      "execution_count": 2,
      "metadata": {
        "id": "EWKPxjsJNeXl"
      },
      "outputs": [
        {
          "name": "stderr",
          "output_type": "stream",
          "text": [
            "\n",
            "[notice] A new release of pip is available: 25.1.1 -> 25.2\n",
            "[notice] To update, run: python.exe -m pip install --upgrade pip\n",
            "ERROR: Invalid requirement: '#': Expected package name at the start of dependency specifier\n",
            "    #\n",
            "    ^\n"
          ]
        },
        {
          "name": "stdout",
          "output_type": "stream",
          "text": [
            "✅ Librerías instaladas correctamente para Windows\n"
          ]
        },
        {
          "name": "stderr",
          "output_type": "stream",
          "text": [
            "\n",
            "[notice] A new release of pip is available: 25.1.1 -> 25.2\n",
            "[notice] To update, run: python.exe -m pip install --upgrade pip\n",
            "ERROR: Invalid requirement: '#': Expected package name at the start of dependency specifier\n",
            "    #\n",
            "    ^\n"
          ]
        }
      ],
      "source": [
        "# Instalar librerías necesarias para MongoDB en Windows\n",
        "!pip install pymongo        # librería para conectar con MongoDB\n",
        "!pip install requests       # para descargar archivos\n",
        "print(\"✅ Librerías instaladas correctamente para Windows\")"
      ]
    },
    {
      "cell_type": "markdown",
      "metadata": {
        "id": "9Q9cdOcYOBks"
      },
      "source": [
        "# 2. Configurar MongoDB para Windows\n",
        "\n",
        "**OPCIÓN A: MongoDB Atlas (Recomendado - Gratuito)**\n",
        "- Crear cuenta en https://www.mongodb.com/cloud/atlas\n",
        "- Crear cluster gratuito\n",
        "- Obtener string de conexión\n",
        "\n",
        "**OPCIÓN B: MongoDB Local**\n",
        "- Descargar MongoDB Community desde: https://www.mongodb.com/try/download/community\n",
        "- Instalar con configuración por defecto\n",
        "- El servicio se ejecuta automáticamente\n",
        "\n",
        "**OPCIÓN C: Docker (Si tienes Docker Desktop)**\n",
        "- Ejecutar: `docker run -d -p 27017:27017 --name mongodb mongo:latest`"
      ]
    },
    {
      "cell_type": "code",
      "execution_count": 3,
      "metadata": {
        "colab": {
          "base_uri": "https://localhost:8080/"
        },
        "id": "ZzO57EUHLNs5",
        "outputId": "bdecd0b2-8f5e-4d43-f494-fe321163a186"
      },
      "outputs": [
        {
          "name": "stdout",
          "output_type": "stream",
          "text": [
            "❌ MongoDB local no disponible\n",
            "\n",
            "🔧 Opciones disponibles:\n",
            "1. Instalar MongoDB Community Server\n",
            "2. Usar MongoDB Atlas (gratuito)\n",
            "3. Usar Docker: docker run -d -p 27017:27017 mongo\n"
          ]
        }
      ],
      "source": [
        "# Verificar disponibilidad de MongoDB\n",
        "import subprocess\n",
        "import sys\n",
        "\n",
        "def verificar_mongodb():\n",
        "    try:\n",
        "        # Verificar si MongoDB está disponible localmente\n",
        "        import pymongo\n",
        "        client = pymongo.MongoClient('localhost', 27017, serverSelectionTimeoutMS=2000)\n",
        "        client.server_info()\n",
        "        print(\"✅ MongoDB local detectado en puerto 27017\")\n",
        "        return 'localhost', 27017\n",
        "    except:\n",
        "        print(\"❌ MongoDB local no disponible\")\n",
        "        print(\"\\n🔧 Opciones disponibles:\")\n",
        "        print(\"1. Instalar MongoDB Community Server\")\n",
        "        print(\"2. Usar MongoDB Atlas (gratuito)\")\n",
        "        print(\"3. Usar Docker: docker run -d -p 27017:27017 mongo\")\n",
        "        return None, None\n",
        "\n",
        "host, port = verificar_mongodb()"
      ]
    },
    {
      "cell_type": "code",
      "execution_count": 6,
      "metadata": {
        "colab": {
          "base_uri": "https://localhost:8080/"
        },
        "id": "6yDCwA2IQckK",
        "outputId": "23ef4da1-a499-4dd4-ab11-6afc50cb2a91"
      },
      "outputs": [
        {
          "name": "stdout",
          "output_type": "stream",
          "text": [
            "✅ Conectado a MongoDB local\n"
          ]
        }
      ],
      "source": [
        "# Configuración de conexión flexible para Windows\n",
        "def conectar_mongodb():\n",
        "    \"\"\"\n",
        "    Intenta conectar a MongoDB con diferentes opciones\n",
        "    \"\"\"\n",
        "    from pymongo import MongoClient\n",
        "    \n",
        "    # Opción 1: MongoDB local\n",
        "    try:\n",
        "        client = MongoClient('localhost', 27017, serverSelectionTimeoutMS=2000)\n",
        "        client.server_info()\n",
        "        print(\"✅ Conectado a MongoDB local\")\n",
        "        return client\n",
        "    except:\n",
        "        pass\n",
        "    \n",
        "    # Opción 2: Docker\n",
        "    try:\n",
        "        client = MongoClient('localhost', 27017, serverSelectionTimeoutMS=2000)\n",
        "        client.server_info()\n",
        "        print(\"✅ Conectado a MongoDB en Docker\")\n",
        "        return client\n",
        "    except:\n",
        "        pass\n",
        "    \n",
        "    # Opción 3: Atlas (requiere configuración manual)\n",
        "    print(\"❌ No se pudo conectar automáticamente\")\n",
        "    print(\"💡 Configura MongoDB Atlas o instala MongoDB local\")\n",
        "    return None\n",
        "\n",
        "# Intentar conexión\n",
        "client = conectar_mongodb()"
      ]
    },
    {
      "cell_type": "markdown",
      "metadata": {
        "id": "N6GL_P_SQtYi"
      },
      "source": [
        "## 2.1 Configurar directorio de trabajo en Windows"
      ]
    },
    {
      "cell_type": "code",
      "execution_count": 4,
      "metadata": {
        "colab": {
          "base_uri": "https://localhost:8080/"
        },
        "id": "a4GuqKIBQy3J",
        "outputId": "2b2f338c-8371-4cb0-d1bb-42d5e37622c0"
      },
      "outputs": [
        {
          "name": "stdout",
          "output_type": "stream",
          "text": [
            "📁 Directorio del proyecto: C:\\Users\\efren\\MongoDB_Taller\n",
            "✅ Configuración completada para Windows\n"
          ]
        }
      ],
      "source": [
        "# Configurar directorio de trabajo en Windows\n",
        "import os\n",
        "from pathlib import Path\n",
        "\n",
        "# Crear directorio para el proyecto\n",
        "proyecto_dir = Path.home() / \"MongoDB_Taller\"\n",
        "proyecto_dir.mkdir(exist_ok=True)\n",
        "\n",
        "print(f\"📁 Directorio del proyecto: {proyecto_dir}\")\n",
        "print(f\"✅ Configuración completada para Windows\")"
      ]
    },
    {
      "cell_type": "code",
      "execution_count": 5,
      "metadata": {
        "id": "JXFRLX-YRV8o"
      },
      "outputs": [
        {
          "name": "stdout",
          "output_type": "stream",
          "text": [
            "📊 Directorio de datos: C:\\Users\\efren\\MongoDB_Taller\\data\n",
            "⬇️  Directorio de descargas: C:\\Users\\efren\\MongoDB_Taller\\downloads\n"
          ]
        }
      ],
      "source": [
        "# Configurar variables del proyecto\n",
        "import os\n",
        "from pathlib import Path\n",
        "\n",
        "# Directorio para datos del proyecto\n",
        "data_dir = proyecto_dir / \"data\"\n",
        "data_dir.mkdir(exist_ok=True)\n",
        "\n",
        "# Directorio para descargas\n",
        "downloads_dir = proyecto_dir / \"downloads\"\n",
        "downloads_dir.mkdir(exist_ok=True)\n",
        "\n",
        "print(f\"📊 Directorio de datos: {data_dir}\")\n",
        "print(f\"⬇️  Directorio de descargas: {downloads_dir}\")"
      ]
    },
    {
      "cell_type": "code",
      "execution_count": 7,
      "metadata": {
        "colab": {
          "base_uri": "https://localhost:8080/"
        },
        "id": "4_h7G7AQR9XT",
        "outputId": "057e6c74-18b7-4a04-a09f-f9a74826adbd"
      },
      "outputs": [
        {
          "name": "stdout",
          "output_type": "stream",
          "text": [
            "🎉 MongoDB está funcionando correctamente\n",
            "📊 Versión de MongoDB: 8.2.0\n",
            "🗄️  Bases de datos disponibles: ['admin', 'config', 'local']\n"
          ]
        }
      ],
      "source": [
        "# Verificar estado de la conexión\n",
        "if client is not None:\n",
        "    try:\n",
        "        # Verificar conexión\n",
        "        info = client.server_info()\n",
        "        print(\"🎉 MongoDB está funcionando correctamente\")\n",
        "        print(f\"📊 Versión de MongoDB: {info.get('version', 'Desconocida')}\")\n",
        "        \n",
        "        # Listar bases de datos existentes\n",
        "        dbs = client.list_database_names()\n",
        "        print(f\"🗄️  Bases de datos disponibles: {dbs}\")\n",
        "        \n",
        "    except Exception as e:\n",
        "        print(f\"❌ Error de conexión: {e}\")\n",
        "else:\n",
        "    print(\"⚠️  MongoDB no está conectado. Revisa la configuración anterior.\")"
      ]
    },
    {
      "cell_type": "markdown",
      "metadata": {
        "id": "JPMtcb3GSgEm"
      },
      "source": [
        "# 3. inicializar nuestro servidor mongoDB"
      ]
    },
    {
      "cell_type": "code",
      "execution_count": 8,
      "metadata": {
        "id": "ajauMBL-Skmf"
      },
      "outputs": [],
      "source": [
        "from pymongo import MongoClient\n",
        "client = MongoClient('localhost',27017)"
      ]
    },
    {
      "cell_type": "markdown",
      "metadata": {
        "id": "HaI3x7fcSrf9"
      },
      "source": [
        "## 3.1 crear una base de datos"
      ]
    },
    {
      "cell_type": "code",
      "execution_count": 9,
      "metadata": {
        "id": "XImX8hwzSuWY"
      },
      "outputs": [],
      "source": [
        "db = client['estudiantes_Ucentral']"
      ]
    },
    {
      "cell_type": "code",
      "execution_count": 10,
      "metadata": {
        "id": "IltVHkOxS1dQ"
      },
      "outputs": [],
      "source": [
        "# crear colecciones\n",
        "coleccion_profes = db['profesores']\n",
        "coleccion_cursos = db['cursos']"
      ]
    },
    {
      "cell_type": "markdown",
      "metadata": {
        "id": "UWxqz7gpX_JO"
      },
      "source": [
        "## 3.2 funciones DML (insertar, borrar, actualizar)"
      ]
    },
    {
      "cell_type": "code",
      "execution_count": 11,
      "metadata": {
        "id": "N-j5KNT2YFRP"
      },
      "outputs": [],
      "source": [
        "def buscar_documentos(db, coleccion_nombre, filtro={}, limite=10):\n",
        "  if db is not None:\n",
        "      coleccion = db[coleccion_nombre]\n",
        "      resultados = coleccion.find(filtro).limit(limite)\n",
        "      for doc in resultados:\n",
        "          print(doc)\n",
        "  else:\n",
        "      print(\"No hay conexión a la base de datos.\")\n",
        "\n",
        "def insertar_documento(db, coleccion_nombre, documento):\n",
        "      if db is not None:\n",
        "          coleccion = db[coleccion_nombre]\n",
        "          resultado = coleccion.insert_one(documento)\n",
        "          print(f\"Documento insertado con ID: {resultado.inserted_id}\")\n",
        "      else:\n",
        "          print(\"No hay conexión a la base de datos.\")\n",
        "\n",
        "def actualizar_un_documento(db, coleccion_nombre, filtro, actualizacion):\n",
        "        if db is not None:\n",
        "            coleccion = db[coleccion_nombre]\n",
        "            resultado = coleccion.update_one(filtro, {'$set': actualizacion})\n",
        "            if resultado.modified_count > 0:\n",
        "                print(f\"Documentos modificados: {resultado.modified_count}\")\n",
        "            else:\n",
        "                print(\"No se encontraron documentos para modificar.\")\n",
        "        else:\n",
        "            print(\"No hay conexión a la base de datos.\")\n",
        "def actualizar_varios_documentos(db, coleccion_nombre, filtro, actualizacion):\n",
        "        if db is not None:\n",
        "            coleccion = db[coleccion_nombre]\n",
        "            resultado = coleccion.update_many(filtro, {'$set': actualizacion})\n",
        "            if resultado.modified_count > 0:\n",
        "                print(f\"Documentos modificados: {resultado.modified_count}\")\n",
        "            else:\n",
        "                print(\"No se encontraron documentos para modificar.\")\n",
        "        else:\n",
        "            print(\"No hay conexión a la base de datos.\")\n",
        "def eliminar_varios_documentos(db, coleccion_nombre, filtro):\n",
        "        if db is not None:\n",
        "            coleccion = db[coleccion_nombre]\n",
        "            resultado = coleccion.delete_many(filtro)\n",
        "            if resultado.deleted_count > 0:\n",
        "                print(f\"Documentos eliminados: {resultado.deleted_count}\")\n",
        "            else:\n",
        "                print(\"No se encontraron documentos para eliminar.\")\n",
        "        else:\n",
        "            print(\"No hay conexión a la base de datos.\")"
      ]
    },
    {
      "cell_type": "code",
      "execution_count": 12,
      "metadata": {
        "id": "wI8X0127YhiK"
      },
      "outputs": [
        {
          "name": "stdout",
          "output_type": "stream",
          "text": [
            "Documento insertado con ID: 68cb8ffdd69e5bba69ab0285\n",
            "Documento insertado con ID: 68cb8ffdd69e5bba69ab0286\n"
          ]
        }
      ],
      "source": [
        "documentoProfe1={\"nombre\":\"luisfdo\",\"apellidos\":\"castellanos guarin\"}\n",
        "documentoProfe2={\"nombre\":\"pepito\",\"apellidos\":\"perez\",\"fechaNacimiento\":\"1980-05-05\"}\n",
        "insertar_documento(db,'profesores',documentoProfe1)\n",
        "insertar_documento(db,'profesores',documentoProfe2)"
      ]
    },
    {
      "cell_type": "code",
      "execution_count": 17,
      "metadata": {
        "colab": {
          "base_uri": "https://localhost:8080/"
        },
        "id": "f04SRxXNdryO",
        "outputId": "e41f1611-b150-47ab-9224-e3c4e86c47ca"
      },
      "outputs": [
        {
          "name": "stdout",
          "output_type": "stream",
          "text": [
            "{'_id': ObjectId('68cb8ffdd69e5bba69ab0285'), 'nombre': 'luisfdo', 'apellidos': 'castellanos guarin'}\n"
          ]
        }
      ],
      "source": [
        "buscar_documentos(db,'profesores')"
      ]
    },
    {
      "cell_type": "code",
      "execution_count": 14,
      "metadata": {
        "colab": {
          "base_uri": "https://localhost:8080/"
        },
        "id": "R_ZCwY8jewyk",
        "outputId": "9ae36fb1-33d7-4579-cccd-b4aac56fdd68"
      },
      "outputs": [
        {
          "name": "stdout",
          "output_type": "stream",
          "text": [
            "Documentos modificados: 1\n"
          ]
        }
      ],
      "source": [
        "actualizar_varios_documentos(db,'profesores',{\"nombre\":\"pepito\"},{\"nombre\":\"Pedro Patricio\"})"
      ]
    },
    {
      "cell_type": "code",
      "execution_count": 16,
      "metadata": {
        "colab": {
          "base_uri": "https://localhost:8080/"
        },
        "id": "yFZCw2umezk7",
        "outputId": "ed323ab4-2856-4c5e-95cf-e97158917f77"
      },
      "outputs": [
        {
          "name": "stdout",
          "output_type": "stream",
          "text": [
            "Documentos eliminados: 1\n"
          ]
        }
      ],
      "source": [
        "eliminar_varios_documentos(db,'profesores',{\"apellidos\":\"perez\"})"
      ]
    },
    {
      "cell_type": "code",
      "execution_count": 24,
      "metadata": {
        "id": "XeTUM6-wesWA"
      },
      "outputs": [],
      "source": [
        "client.close()"
      ]
    },
    {
      "cell_type": "markdown",
      "metadata": {
        "id": "Tlb7E68lhQaE"
      },
      "source": [
        "#4 descargar y descomprimir zip"
      ]
    },
    {
      "cell_type": "code",
      "execution_count": 18,
      "metadata": {
        "id": "l2X1vrwQhXAa"
      },
      "outputs": [],
      "source": [
        "def descargar_y_descomprimir_zip(url, carpeta_destino, tipoArchivo=''):\n",
        "  import os\n",
        "  import io\n",
        "  import zipfile\n",
        "  import requests\n",
        "  os.makedirs(carpeta_destino, exist_ok=True)  #cree la carpeta sino existe\n",
        "  response = requests.get(url)\n",
        "  zip_file = zipfile.ZipFile(io.BytesIO(response.content))\n",
        "  if (tipoArchivo == ''):\n",
        "    zip_file.extractall(carpeta_destino) #exportar .zip a la carpeta\n",
        "  else:\n",
        "    for nombre_archivo in zip_file.namelist():\n",
        "      if nombre_archivo.endswith(tipoArchivo):\n",
        "        zip_file.extract(nombre_archivo, carpeta_destino)\n"
      ]
    },
    {
      "cell_type": "code",
      "execution_count": 19,
      "metadata": {
        "id": "7QnthjxViyEp"
      },
      "outputs": [
        {
          "name": "stdout",
          "output_type": "stream",
          "text": [
            "⬇️  Descargando desde: https://archive.ics.uci.edu/ml/machine-learning-databases/00320/student.zip\n",
            "📁 Guardando en: C:\\Users\\efren\\MongoDB_Taller\\downloads\n",
            "✅ Descarga completada\n",
            "✅ Descarga completada\n"
          ]
        }
      ],
      "source": [
        "# Configurar directorio de descarga y descargar datos\n",
        "carpeta_destino = downloads_dir\n",
        "url = \"https://archive.ics.uci.edu/ml/machine-learning-databases/00320/student.zip\"\n",
        "\n",
        "print(f\"⬇️  Descargando desde: {url}\")\n",
        "print(f\"📁 Guardando en: {carpeta_destino}\")\n",
        "\n",
        "# Ejecutar descarga\n",
        "descargar_y_descomprimir_zip(url, str(carpeta_destino))\n",
        "print(\"✅ Descarga completada\")"
      ]
    },
    {
      "cell_type": "markdown",
      "metadata": {
        "id": "m16lzV0LjsGb"
      },
      "source": [
        "# 5.Procesar data descargada y cargar a una coleccion"
      ]
    },
    {
      "cell_type": "code",
      "execution_count": 20,
      "metadata": {
        "colab": {
          "base_uri": "https://localhost:8080/"
        },
        "id": "2WHDFmOJj0F6",
        "outputId": "02bb6a09-5833-4ef7-9af5-36a52fb7b6f6"
      },
      "outputs": [
        {
          "name": "stderr",
          "output_type": "stream",
          "text": [
            "<>:7: SyntaxWarning: invalid escape sequence '\\d'\n",
            "<>:7: SyntaxWarning: invalid escape sequence '\\d'\n",
            "C:\\Users\\efren\\AppData\\Local\\Temp\\ipykernel_51436\\2554699229.py:7: SyntaxWarning: invalid escape sequence '\\d'\n",
            "  match = re.match('^\\d+\\s+(.+?)\\s*-\\s*(.+)$',linea)\n"
          ]
        }
      ],
      "source": [
        "import re\n",
        "def procesar_txt_diccionario_separados_por_espacio(data_diccionario):\n",
        "  lineas=data_diccionario.strip().split('\\n')\n",
        "  #---listar\n",
        "  documentos=[]\n",
        "  for linea in lineas:\n",
        "    match = re.match('^\\d+\\s+(.+?)\\s*-\\s*(.+)$',linea)\n",
        "    if match:\n",
        "      clave= match.group(1)\n",
        "      valor= match.group(2)\n",
        "      documentos.append({\"clave\":clave, \"valor\":valor})\n",
        "  return documentos"
      ]
    },
    {
      "cell_type": "code",
      "execution_count": 21,
      "metadata": {
        "colab": {
          "base_uri": "https://localhost:8080/"
        },
        "id": "hYek4CWdk7vf",
        "outputId": "f6bffc40-1255-4213-d4fb-ba1211993138"
      },
      "outputs": [
        {
          "name": "stdout",
          "output_type": "stream",
          "text": [
            "📊 Documentos procesados: 33\n",
            "🔍 Primeros 3 documentos:\n",
            "  1. {'clave': 'school', 'valor': 'student\\'s school (binary: \"GP\" - Gabriel Pereira or \"MS\" - Mousinho da Silveira)'}\n",
            "  2. {'clave': 'sex', 'valor': 'student\\'s sex (binary: \"F\" - female or \"M\" - male)'}\n",
            "  3. {'clave': 'age', 'valor': \"student's age (numeric: from 15 to 22)\"}\n"
          ]
        }
      ],
      "source": [
        "# Procesar archivo descargado con rutas de Windows\n",
        "archivo_student = downloads_dir / 'student.txt'\n",
        "\n",
        "if archivo_student.exists():\n",
        "    with open(archivo_student, 'r', encoding='utf-8') as archivo:\n",
        "        data_diccionario = archivo.read()\n",
        "    \n",
        "    documentos = procesar_txt_diccionario_separados_por_espacio(data_diccionario)\n",
        "    print(f\"📊 Documentos procesados: {len(documentos)}\")\n",
        "    print(\"🔍 Primeros 3 documentos:\")\n",
        "    for i, doc in enumerate(documentos[:3]):\n",
        "        print(f\"  {i+1}. {doc}\")\n",
        "else:\n",
        "    print(f\"❌ Archivo no encontrado: {archivo_student}\")\n",
        "    documentos = []"
      ]
    },
    {
      "cell_type": "code",
      "execution_count": 22,
      "metadata": {
        "id": "RYoeexgDlhQL"
      },
      "outputs": [
        {
          "name": "stdout",
          "output_type": "stream",
          "text": [
            "📤 Insertando 33 documentos...\n",
            "Documento insertado con ID: 68cb9136d69e5bba69ab0287\n",
            "Documento insertado con ID: 68cb9136d69e5bba69ab0288\n",
            "Documento insertado con ID: 68cb9136d69e5bba69ab0289\n",
            "Documento insertado con ID: 68cb9136d69e5bba69ab028a\n",
            "Documento insertado con ID: 68cb9136d69e5bba69ab028b\n",
            "Documento insertado con ID: 68cb9136d69e5bba69ab028c\n",
            "Documento insertado con ID: 68cb9136d69e5bba69ab028d\n",
            "Documento insertado con ID: 68cb9136d69e5bba69ab028e\n",
            "Documento insertado con ID: 68cb9136d69e5bba69ab028f\n",
            "Documento insertado con ID: 68cb9136d69e5bba69ab0290\n",
            "✅ Insertados 10/33 documentos\n",
            "Documento insertado con ID: 68cb9136d69e5bba69ab0291\n",
            "Documento insertado con ID: 68cb9136d69e5bba69ab0292\n",
            "Documento insertado con ID: 68cb9136d69e5bba69ab0293\n",
            "Documento insertado con ID: 68cb9136d69e5bba69ab0294\n",
            "Documento insertado con ID: 68cb9136d69e5bba69ab0295\n",
            "Documento insertado con ID: 68cb9136d69e5bba69ab0296\n",
            "Documento insertado con ID: 68cb9136d69e5bba69ab0297\n",
            "Documento insertado con ID: 68cb9136d69e5bba69ab0298\n",
            "Documento insertado con ID: 68cb9136d69e5bba69ab0299\n",
            "Documento insertado con ID: 68cb9136d69e5bba69ab029a\n",
            "✅ Insertados 20/33 documentos\n",
            "Documento insertado con ID: 68cb9136d69e5bba69ab029b\n",
            "Documento insertado con ID: 68cb9136d69e5bba69ab029c\n",
            "Documento insertado con ID: 68cb9136d69e5bba69ab029d\n",
            "Documento insertado con ID: 68cb9136d69e5bba69ab029e\n",
            "Documento insertado con ID: 68cb9136d69e5bba69ab029f\n",
            "Documento insertado con ID: 68cb9136d69e5bba69ab02a0\n",
            "Documento insertado con ID: 68cb9136d69e5bba69ab02a1\n",
            "Documento insertado con ID: 68cb9136d69e5bba69ab02a2\n",
            "Documento insertado con ID: 68cb9136d69e5bba69ab02a3\n",
            "Documento insertado con ID: 68cb9136d69e5bba69ab02a4\n",
            "✅ Insertados 30/33 documentos\n",
            "Documento insertado con ID: 68cb9136d69e5bba69ab02a5\n",
            "Documento insertado con ID: 68cb9136d69e5bba69ab02a6\n",
            "Documento insertado con ID: 68cb9136d69e5bba69ab02a7\n",
            "🎉 Todos los documentos han sido insertados\n"
          ]
        }
      ],
      "source": [
        "# Insertar documentos en MongoDB si hay conexión y datos\n",
        "if client is not None and documentos:\n",
        "    db = client['estudiantes_Ucentral']\n",
        "    coleccion_estudiantes = db['estudiantes']\n",
        "    \n",
        "    print(f\"📤 Insertando {len(documentos)} documentos...\")\n",
        "    for i, documento in enumerate(documentos, 1):\n",
        "        insertar_documento(db, 'estudiantes', documento)\n",
        "        if i % 10 == 0:  # Progreso cada 10 documentos\n",
        "            print(f\"✅ Insertados {i}/{len(documentos)} documentos\")\n",
        "    \n",
        "    print(\"🎉 Todos los documentos han sido insertados\")\n",
        "else:\n",
        "    if client is None:\n",
        "        print(\"❌ No hay conexión a MongoDB\")\n",
        "    if not documentos:\n",
        "        print(\"❌ No hay documentos para insertar\")"
      ]
    },
    {
      "cell_type": "code",
      "execution_count": 23,
      "metadata": {
        "colab": {
          "base_uri": "https://localhost:8080/"
        },
        "id": "9twRw6W_lruY",
        "outputId": "4b64ca22-981e-4083-b15f-e33ee8bd7d41"
      },
      "outputs": [
        {
          "name": "stdout",
          "output_type": "stream",
          "text": [
            "{'_id': ObjectId('68cb9136d69e5bba69ab0287'), 'clave': 'school', 'valor': 'student\\'s school (binary: \"GP\" - Gabriel Pereira or \"MS\" - Mousinho da Silveira)'}\n",
            "{'_id': ObjectId('68cb9136d69e5bba69ab0288'), 'clave': 'sex', 'valor': 'student\\'s sex (binary: \"F\" - female or \"M\" - male)'}\n",
            "{'_id': ObjectId('68cb9136d69e5bba69ab0289'), 'clave': 'age', 'valor': \"student's age (numeric: from 15 to 22)\"}\n",
            "{'_id': ObjectId('68cb9136d69e5bba69ab028a'), 'clave': 'address', 'valor': 'student\\'s home address type (binary: \"U\" - urban or \"R\" - rural)'}\n",
            "{'_id': ObjectId('68cb9136d69e5bba69ab028b'), 'clave': 'famsize', 'valor': 'family size (binary: \"LE3\" - less or equal to 3 or \"GT3\" - greater than 3)'}\n",
            "{'_id': ObjectId('68cb9136d69e5bba69ab028c'), 'clave': 'Pstatus', 'valor': 'parent\\'s cohabitation status (binary: \"T\" - living together or \"A\" - apart)'}\n",
            "{'_id': ObjectId('68cb9136d69e5bba69ab028d'), 'clave': 'Medu', 'valor': \"mother's education (numeric: 0 - none,  1 - primary education (4th grade), 2 – 5th to 9th grade, 3 – secondary education or 4 – higher education)\"}\n",
            "{'_id': ObjectId('68cb9136d69e5bba69ab028e'), 'clave': 'Fedu', 'valor': \"father's education (numeric: 0 - none,  1 - primary education (4th grade), 2 – 5th to 9th grade, 3 – secondary education or 4 – higher education)\"}\n",
            "{'_id': ObjectId('68cb9136d69e5bba69ab028f'), 'clave': 'Mjob', 'valor': 'mother\\'s job (nominal: \"teacher\", \"health\" care related, civil \"services\" (e.g. administrative or police), \"at_home\" or \"other\")'}\n",
            "{'_id': ObjectId('68cb9136d69e5bba69ab0290'), 'clave': 'Fjob', 'valor': 'father\\'s job (nominal: \"teacher\", \"health\" care related, civil \"services\" (e.g. administrative or police), \"at_home\" or \"other\")'}\n"
          ]
        }
      ],
      "source": [
        "buscar_documentos(db,'estudiantes')"
      ]
    }
  ],
  "metadata": {
    "colab": {
      "provenance": []
    },
    "kernelspec": {
      "display_name": "Python 3",
      "name": "python3"
    },
    "language_info": {
      "codemirror_mode": {
        "name": "ipython",
        "version": 3
      },
      "file_extension": ".py",
      "mimetype": "text/x-python",
      "name": "python",
      "nbconvert_exporter": "python",
      "pygments_lexer": "ipython3",
      "version": "3.12.4"
    }
  },
  "nbformat": 4,
  "nbformat_minor": 0
}
